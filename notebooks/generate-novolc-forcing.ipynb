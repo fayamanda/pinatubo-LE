{
 "cells": [
  {
   "cell_type": "markdown",
   "metadata": {},
   "source": [
    "# Censor Pinatubo from the volcanic aerosol forcing dataset used in CESM-LE\n",
    "\n",
    "This notebook replaces aerosol mass mixing ratio data for the period associated with Pinatubo with data prior to that period, thereby eliminating the Pinatubo forcing."
   ]
  },
  {
   "cell_type": "code",
   "execution_count": 1,
   "metadata": {},
   "outputs": [],
   "source": [
    "%load_ext autoreload\n",
    "%autoreload 2"
   ]
  },
  {
   "cell_type": "code",
   "execution_count": 2,
   "metadata": {},
   "outputs": [],
   "source": [
    "import os\n",
    "\n",
    "import matplotlib.pyplot as plt\n",
    "import numpy as np\n",
    "import xarray as xr\n",
    "\n",
    "import util"
   ]
  },
  {
   "cell_type": "markdown",
   "metadata": {},
   "source": [
    "## Read original forcing dataset"
   ]
  },
  {
   "cell_type": "code",
   "execution_count": 3,
   "metadata": {},
   "outputs": [
    {
     "name": "stdout",
     "output_type": "stream",
     "text": [
      "xarray.Dataset {\n",
      "dimensions:\n",
      "\ttime = 1910 ;\n",
      "\tlev = 8 ;\n",
      "\tlat = 64 ;\n",
      "\n",
      "variables:\n",
      "\tfloat32 time(time) ;\n",
      "\tfloat64 date(time) ;\n",
      "\t\tdate:long_name = Date ;\n",
      "\t\tdate:units = yyyymmdd ;\n",
      "\tfloat32 lev(lev) ;\n",
      "\t\tlev:bounds = ilev ;\n",
      "\t\tlev:long_name = Pressure downwards ;\n",
      "\t\tlev:units = hPa ;\n",
      "\t\tlev:standard_name = pure pressure levels ;\n",
      "\t\tlev:formula_terms = none ;\n",
      "\tfloat64 lat(lat) ;\n",
      "\tfloat64 MMRVOLC(time, lev, lat) ;\n",
      "\t\tMMRVOLC:units = kg kg-1 ;\n",
      "\t\tMMRVOLC:long_name = layer volcanic aerosol mass mixing ratio ;\n",
      "\tfloat32 colmass(time, lat) ;\n",
      "\tfloat64 datesec(time) ;\n",
      "\n",
      "// global attributes:\n",
      "\t:title = Volcanic Aerosol Mass Mixing Ratio Prototype Dec 1849 to Jan 2009 for NCAR-CCSM4 ;\n",
      "\t:creation_date = Wed Apr  1 09:13:55 MDT 2009 ;\n",
      "\t:created_by = Caspar Ammann ;\n",
      "\t:reference = ... ;\n",
      "\t:aerosol_dates = Covered Period : Monthly averages Dec 1849 - Jan 2009. ;\n",
      "\t:aerosol_base = Derived from CCSM3_volcanic forcing ;\n",
      "\t:aerosol_distribution = Single aerosol distribution: sulfuric acid with reff 0.4264, med 0.375, sigma 1.25 ;\n",
      "}"
     ]
    }
   ],
   "source": [
    "dirin = '/glade/p/cesmdata/cseg/inputdata/atm/cam/volc'\n",
    "file_in = 'CCSM4_volcanic_1850-2008_prototype1.nc'\n",
    "ds = xr.open_dataset(f'{dirin}/{file_in}')\n",
    "ds.info()"
   ]
  },
  {
   "cell_type": "markdown",
   "metadata": {},
   "source": [
    "Crude plots of aerosol loading"
   ]
  },
  {
   "cell_type": "code",
   "execution_count": null,
   "metadata": {},
   "outputs": [
    {
     "data": {
      "text/plain": [
       "[<matplotlib.lines.Line2D at 0x2b1735b2be50>]"
      ]
     },
     "execution_count": 4,
     "metadata": {},
     "output_type": "execute_result"
    }
   ],
   "source": [
    "ds.MMRVOLC.sum(['lev']).mean('lat').plot()"
   ]
  },
  {
   "cell_type": "code",
   "execution_count": null,
   "metadata": {},
   "outputs": [],
   "source": [
    "tslice_pinatubo = slice(1988, 1998)\n",
    "ds.sel(time=tslice_pinatubo).MMRVOLC.sum(['lev']).mean('lat').plot(marker='.')"
   ]
  },
  {
   "cell_type": "markdown",
   "metadata": {},
   "source": [
    "## Replace data for Pinatubo period"
   ]
  },
  {
   "cell_type": "code",
   "execution_count": null,
   "metadata": {},
   "outputs": [],
   "source": [
    "dso = ds.copy(deep=True)\n",
    "\n",
    "ndx_novolc = np.where((1986 <= ds.time) & (ds.time < 1991))[0]\n",
    "ndx_pinatubo = np.where((1991 <= ds.time) & (ds.time < 1996))[0]\n",
    "assert len(ndx_pinatubo) == len(ndx_novolc)\n",
    "\n",
    "time_window_novolc = f'{int(ds.time.values[ndx_novolc[0]])}-{int(ds.time.values[ndx_novolc[-1]])}'\n",
    "time_window_pinatubo = f'{int(ds.time.values[ndx_pinatubo[0]])}-{int(ds.time.values[ndx_pinatubo[-1]])}'\n",
    "\n",
    "dso.attrs['Note'] = f'Original forcing data from {time_window_pinatubo} replaced with data from {time_window_novolc}'\n",
    "\n",
    "dso.MMRVOLC.values[ndx_pinatubo, :, :] = ds.MMRVOLC.values[ndx_novolc, :, :]\n",
    "dso.info()"
   ]
  },
  {
   "cell_type": "code",
   "execution_count": null,
   "metadata": {},
   "outputs": [],
   "source": [
    "ds.MMRVOLC.sum(['lev']).mean('lat').plot(label='default forcing')\n",
    "dso.MMRVOLC.sum(['lev']).mean('lat').plot(label='no pinatubo')\n",
    "plt.legend();"
   ]
  },
  {
   "cell_type": "code",
   "execution_count": null,
   "metadata": {},
   "outputs": [],
   "source": [
    "ds.sel(time=tslice_pinatubo).MMRVOLC.sum(['lev']).mean('lat').plot(marker='.', label='default forcing')\n",
    "dso.sel(time=tslice_pinatubo).MMRVOLC.sum(['lev']).mean('lat').plot(marker='.', label='no pinatubo')\n",
    "plt.legend();"
   ]
  },
  {
   "cell_type": "markdown",
   "metadata": {},
   "source": [
    "## Write output file"
   ]
  },
  {
   "cell_type": "code",
   "execution_count": null,
   "metadata": {},
   "outputs": [],
   "source": [
    "dirout = './data/inputdata/atm/cam/volc'\n",
    "file_out = file_in.replace('.nc', '_no-pinatubo.nc')\n",
    "os.makedirs(dirout, exist_ok=True)\n",
    "util.to_netcdf_clean(dso, f'{dirout}/{file_out}')"
   ]
  },
  {
   "cell_type": "code",
   "execution_count": null,
   "metadata": {},
   "outputs": [],
   "source": []
  }
 ],
 "metadata": {
  "kernelspec": {
   "display_name": "Python [conda env:miniconda3-pinatubo-LE]",
   "language": "python",
   "name": "conda-env-miniconda3-pinatubo-LE-py"
  },
  "language_info": {
   "codemirror_mode": {
    "name": "ipython",
    "version": 3
   },
   "file_extension": ".py",
   "mimetype": "text/x-python",
   "name": "python",
   "nbconvert_exporter": "python",
   "pygments_lexer": "ipython3",
   "version": "3.7.11"
  }
 },
 "nbformat": 4,
 "nbformat_minor": 4
}
